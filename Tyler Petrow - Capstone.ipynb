{
 "cells": [
  {
   "cell_type": "markdown",
   "id": "566e6bb3-96b3-46ed-b11e-6213f455736f",
   "metadata": {},
   "source": [
    "<h1>WGU Capstone Project</h1>"
   ]
  },
  {
   "cell_type": "code",
   "execution_count": null,
   "id": "fb2fb57a-41ad-4ca8-91cb-b0d684e66d05",
   "metadata": {},
   "outputs": [],
   "source": []
  }
 ],
 "metadata": {
  "kernelspec": {
   "display_name": "Python 3 (ipykernel)",
   "language": "python",
   "name": "python3"
  },
  "language_info": {
   "codemirror_mode": {
    "name": "ipython",
    "version": 3
   },
   "file_extension": ".py",
   "mimetype": "text/x-python",
   "name": "python",
   "nbconvert_exporter": "python",
   "pygments_lexer": "ipython3",
   "version": "3.12.5"
  }
 },
 "nbformat": 4,
 "nbformat_minor": 5
}
