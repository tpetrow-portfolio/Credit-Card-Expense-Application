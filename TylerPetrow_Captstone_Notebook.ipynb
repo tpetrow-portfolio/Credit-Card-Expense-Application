{
  "nbformat": 4,
  "nbformat_minor": 0,
  "metadata": {
    "colab": {
      "provenance": [],
      "collapsed_sections": [
        "HlVvL_nDXzV_",
        "F_z3LCQcX-3R",
        "kOQgwDvgYAjn",
        "DokmInsFYS_U",
        "_hQfQF0dYTXu",
        "TtzyAZwOYUT0",
        "fbaCHKb_YUnY",
        "Y9oHZYyuYVOW",
        "SU4_5TWWYVhS",
        "ZrvIFcI-YWS3",
        "qIoI3bYiYWnD",
        "YsrwBMfbYXJu",
        "FFA0Pj63YXbX",
        "EopMyoCZYX8I",
        "k2jO1apnYYNu",
        "x3NR5b9dYYsP",
        "uQLgkvc4YY7X",
        "lWkTMvOLYZcs",
        "7F719D3-YZ5d",
        "n9SoE47cYaeU",
        "KMbe-oY3Yaws",
        "OIv-5Im9YbM0",
        "Gm7tWSDyYbpp",
        "vhZvZHGIYcNO",
        "faSG-glzYcgU",
        "sOY5DboaYdBJ",
        "3sRXlJaxYdRV",
        "XDxMSMmPYeKY",
        "E-mB_NWAYeiC",
        "IpUmx6jqYgVT"
      ]
    },
    "kernelspec": {
      "name": "python3",
      "display_name": "Python 3"
    },
    "language_info": {
      "name": "python"
    }
  },
  "cells": [
    {
      "cell_type": "markdown",
      "source": [
        "# **Capstone Project - Tyler Petrow**\n",
        "\n",
        "\n",
        "---\n",
        "\n",
        "\n",
        "## *Sample Co. Company Credit Card Expenditure Reporting and Forecasting Application*"
      ],
      "metadata": {
        "id": "7ZQLpnjAxfMm"
      }
    },
    {
      "cell_type": "code",
      "execution_count": 7,
      "metadata": {
        "id": "EQtfEQ84xbHE"
      },
      "outputs": [],
      "source": [
        "# Tyler Petrow\n",
        "# ID: 011118169\n",
        "# WGU C964 - Computer Science Capstone\n",
        "# SIM3 Task 2: Capstone Project Design and Development\n",
        "# Company Credit Card Expense Reporting and Forecasting Application"
      ]
    },
    {
      "cell_type": "markdown",
      "source": [
        "###***Mount notebook on Google Drive to access CSV files***"
      ],
      "metadata": {
        "id": "HlVvL_nDXzV_"
      }
    },
    {
      "cell_type": "code",
      "source": [
        "# mount notebook on Google Drive to access CSV files\n",
        "# commented out because already mounted on Drive\n",
        "# from google.colab import drive\n",
        "# drive.mount('/content/drive')"
      ],
      "metadata": {
        "id": "5FTk-u7R5nke"
      },
      "execution_count": 8,
      "outputs": []
    },
    {
      "cell_type": "markdown",
      "source": [
        "###***Import necessary libraries***"
      ],
      "metadata": {
        "id": "F_z3LCQcX-3R"
      }
    },
    {
      "cell_type": "code",
      "source": [
        "# import necessary libraries\n",
        "from IPython.display import clear_output\n",
        "from tabulate import tabulate\n",
        "from sklearn.preprocessing import StandardScaler\n",
        "from sklearn.cluster import DBSCAN\n",
        "import numpy as np\n",
        "import pandas as pd\n",
        "import matplotlib.pyplot as plt\n",
        "%matplotlib inline"
      ],
      "metadata": {
        "id": "cI3C29q-xqRe"
      },
      "execution_count": 9,
      "outputs": []
    },
    {
      "cell_type": "markdown",
      "source": [
        "###***Read in CSV files \"expenditures.csv\" and \"trip_information.csv\"***"
      ],
      "metadata": {
        "id": "kOQgwDvgYAjn"
      }
    },
    {
      "cell_type": "code",
      "source": [
        "# read in CSV files \"expenditures.csv\" and \"trip_information.csv\"\n",
        "expendituresDF = pd.read_csv('/content/drive/MyDrive/expenditures.csv')\n",
        "budgetDF = pd.read_csv('/content/drive/MyDrive/trip_information.csv')"
      ],
      "metadata": {
        "id": "iqlKHSWUxq9r"
      },
      "execution_count": 10,
      "outputs": []
    },
    {
      "cell_type": "markdown",
      "source": [
        "###***Aggregate total ependitures and merged_DF for later use***"
      ],
      "metadata": {
        "id": "DokmInsFYS_U"
      }
    },
    {
      "cell_type": "code",
      "source": [
        "# aggregate total ependitures for later use\n",
        "total_expenditures = expendituresDF.groupby(['Trip ID', 'Year'])['Price'].sum().reset_index()\n",
        "total_expenditures.columns = ['Trip ID', 'Year', 'Total Expenditure']\n",
        "\n",
        "# merge total budget per trip with total spending per trip for later use\n",
        "merged_DF = pd.merge(budgetDF, total_expenditures, on=['Trip ID', 'Year'])"
      ],
      "metadata": {
        "id": "wZcsNNKWOuGm"
      },
      "execution_count": 11,
      "outputs": []
    },
    {
      "cell_type": "markdown",
      "source": [
        "###***Function will formulate trip report from user input year and trip number***"
      ],
      "metadata": {
        "id": "_hQfQF0dYTXu"
      }
    },
    {
      "cell_type": "code",
      "source": [
        "# function will formulate trip report from user input year and trip number\n",
        "def tripReport(userYear, userTrip):\n",
        "  # convert user input to integer\n",
        "  userYear = int(userYear)\n",
        "  userTrip = int(userTrip)\n",
        "\n",
        "  # separate expenditure data from year DF into each expenditure category for reporting\n",
        "  travel = expendituresDF[(expendituresDF['Trip ID'] == userTrip) &    # filter expenditures for the user-selected trip and year, and 'Travel' category\n",
        "                           (expendituresDF['Year'] == userYear) &\n",
        "                           (expendituresDF['Expense Category'] == 'Travel')]\n",
        "  lodging = expendituresDF[(expendituresDF['Trip ID'] == userTrip) &  # filter expenditures for the user-selected trip and year, and 'Lodging' category\n",
        "                           (expendituresDF['Year'] == userYear) &\n",
        "                           (expendituresDF['Expense Category'] == 'Lodging')]\n",
        "  dining = expendituresDF[(expendituresDF['Trip ID'] == userTrip) &  # filter expenditures for the user-selected trip and year, and 'Dining' category\n",
        "                           (expendituresDF['Year'] == userYear) &\n",
        "                           (expendituresDF['Expense Category'] == 'Dining')]\n",
        "  incidental = expendituresDF[(expendituresDF['Trip ID'] == userTrip) &  # filter expenditures for the user-selected trip and year, and 'Incidental' category\n",
        "                           (expendituresDF['Year'] == userYear) &\n",
        "                           (expendituresDF['Expense Category'] == 'Incidental')]\n",
        "  per_diem = expendituresDF[(expendituresDF['Trip ID'] == userTrip) &  # filter expenditures for the user-selected trip and year, and 'Other' category\n",
        "                           (expendituresDF['Year'] == userYear) &\n",
        "                           (expendituresDF['Expense Category'] == 'Other')]\n",
        "\n",
        "\n",
        "  # separate budget data from budget DF into each budget category for reporting\n",
        "  travelBudget = budgetDF[(budgetDF['Trip ID'] == userTrip) &    # filter budget for the user-selected trip and year, and 'Travel' category\n",
        "                          (budgetDF['Year'] == userYear)].iloc[0]['Travel']\n",
        "  lodgingBudget = budgetDF[(budgetDF['Trip ID'] == userTrip) &    # filter budget for the user-selected trip and year, and 'Lodging' category\n",
        "                           (budgetDF['Year'] == userYear)].iloc[0]['Lodging']\n",
        "  diningBudget = budgetDF[(budgetDF['Trip ID'] == userTrip) &    # filter budget for the user-selected trip and year, and 'Dining' category\n",
        "                          (budgetDF['Year'] == userYear)].iloc[0]['Dining']\n",
        "  incidentalBudget = budgetDF[(budgetDF['Trip ID'] == userTrip) &    # filter budget the for user-selected trip and year, and 'Incidental' category\n",
        "                              (budgetDF['Year'] == userYear)].iloc[0]['Incidental']\n",
        "  per_diemBudget = budgetDF[(budgetDF['Trip ID'] == userTrip) &    # filter budget for the user-selected trip and year, and 'Other' category\n",
        "                            (budgetDF['Year'] == userYear)].iloc[0]['Per Diem']\n",
        "  totalBudget = budgetDF[(budgetDF['Trip ID'] == userTrip) &    # filter budget for the user-selected trip and year, and 'Total' column\n",
        "                         (budgetDF['Year'] == userYear)].iloc[0]['Total Budget']\n",
        "\n",
        "  # create subplots\n",
        "  fig, axes = plt.subplots(nrows=6, ncols=2, figsize=(14, 7))\n",
        "  fig.subplots_adjust(left= 0.125, bottom=0.03, right=0.7, top=0.95, hspace=1, wspace=0.25)  # adjust top margin and vertical spacing\n",
        "\n",
        "  # function to create pie charts\n",
        "  def plot_pie(ax, spent, budget, title):\n",
        "        spent_percentage = (spent / budget) * 100\n",
        "        remaining_percentage = 100 - spent_percentage\n",
        "        if remaining_percentage < 0:\n",
        "            remaining_percentage = 0\n",
        "        data = np.array([spent_percentage, remaining_percentage])\n",
        "        ax.pie(data, autopct='%1.1f%%',\n",
        "               explode=[0.1, 0], colors=['red', 'green'], shadow=True)\n",
        "        ax.set_title(title)\n",
        "        ax.axis('equal')\n",
        "\n",
        "  # function to create bar charts\n",
        "  def plot_bar(ax, spent, budget, title):\n",
        "        remaining = budget - spent\n",
        "        ax.bar(['Budgeted', 'Spent', 'Remaining'], [budget, spent, remaining],\n",
        "               color=['black', 'red', 'green'])\n",
        "        for bar in ax.patches:\n",
        "            height = bar.get_height()\n",
        "            ax.text(bar.get_x() + bar.get_width()/2, height, f'{height:.2f}',\n",
        "                    ha='center', va='bottom')\n",
        "        ax.set_title(title)\n",
        "        ax.set_ylabel('Amount ($)')\n",
        "\n",
        "  # plot Travel\n",
        "  plot_pie(axes[0, 0], travel['Price'].sum(), travelBudget, 'Travel Pie')\n",
        "  plot_bar(axes[0, 1], travel['Price'].sum(), travelBudget, 'Travel Bar')\n",
        "\n",
        "  # plot Lodging\n",
        "  plot_pie(axes[1, 0], lodging['Price'].sum(), lodgingBudget, 'Lodging Pie')\n",
        "  plot_bar(axes[1, 1], lodging['Price'].sum(), lodgingBudget, 'Lodging Bar')\n",
        "\n",
        "  # plot Dining\n",
        "  plot_pie(axes[2, 0], dining['Price'].sum(), diningBudget, 'Dining Pie')\n",
        "  plot_bar(axes[2, 1], dining['Price'].sum(), diningBudget, 'Dining Bar')\n",
        "\n",
        "  # plot Incidental\n",
        "  plot_pie(axes[3, 0], incidental['Price'].sum(), incidentalBudget, 'Incidental Pie')\n",
        "  plot_bar(axes[3, 1], incidental['Price'].sum(), incidentalBudget, 'Incidental Bar')\n",
        "\n",
        "  # plot Per Diem\n",
        "  plot_pie(axes[4, 0], per_diem['Price'].sum(), per_diemBudget, 'Per Diem Pie')\n",
        "  plot_bar(axes[4, 1], per_diem['Price'].sum(), per_diemBudget, 'Per Diem Bar')\n",
        "\n",
        "  # plot Total Budget\n",
        "  totalSpentPerc = ((travel['Price'].sum() + lodging['Price'].sum() +\n",
        "                 dining['Price'].sum() + incidental['Price'].sum() +\n",
        "                 per_diem['Price'].sum()) / totalBudget) * 100\n",
        "  totalRemaining = 100 - totalSpentPerc\n",
        "  if totalRemaining < 0:  # if remaining percentage in budget is less than 0, make it 0\n",
        "      totalRemaining = 0\n",
        "  total_data = np.array([totalSpentPerc, totalRemaining])\n",
        "  axes[5, 0].pie(total_data, autopct='%1.1f%%',\n",
        "                 explode=[0.1, 0], colors=['red', 'green'], shadow=True)\n",
        "  axes[5, 0].set_title('Total Expenditure Pie')\n",
        "  axes[5, 0].axis('equal')\n",
        "\n",
        "  totalSpentAmount = travel['Price'].sum() + lodging['Price'].sum() + dining['Price'].sum() + incidental['Price'].sum() + per_diem['Price'].sum()\n",
        "  plot_bar(axes[5, 1], totalSpentAmount, totalBudget, 'Total Expenditure Bar')\n",
        "\n",
        "  plt.show()  # display the entire figure"
      ],
      "metadata": {
        "id": "a1xevj9XUSoo"
      },
      "execution_count": 12,
      "outputs": []
    },
    {
      "cell_type": "markdown",
      "source": [
        "###***Test tripReport()***"
      ],
      "metadata": {
        "id": "TtzyAZwOYUT0"
      }
    },
    {
      "cell_type": "code",
      "source": [
        "# test tripReport()\n",
        "tripReport(2023, 1)"
      ],
      "metadata": {
        "id": "RcBdCzxpUYqq"
      },
      "execution_count": null,
      "outputs": []
    },
    {
      "cell_type": "markdown",
      "source": [
        "###***Function will formulate summary report from user input year, and has ability to create a subplot if needed***"
      ],
      "metadata": {
        "id": "fbaCHKb_YUnY"
      }
    },
    {
      "cell_type": "code",
      "source": [
        "# function will formulate summary report from user input year, and has ability to create a subplot if needed\n",
        "def yearReport(userYear, userax=None):\n",
        "  # note: userax helps when calling yearReport with only one parameter (i.e. yearReport(2019))\n",
        "\n",
        "  # convert user input to integer\n",
        "  userYear = int(userYear)\n",
        "\n",
        "  # parse dataframes for user-specified data\n",
        "  year_expenditure_data = pd.DataFrame(expendituresDF[expendituresDF['Year'] == userYear])\n",
        "  year_budget_data = pd.DataFrame(budgetDF[budgetDF['Year'] == userYear])\n",
        "  totalYearSpending = year_expenditure_data.groupby('Trip ID')['Price'].sum()\n",
        "  totalYearBudget = year_budget_data.groupby('Trip ID')['Total Budget'].sum()\n",
        "\n",
        "  # ensure both series have the same trip IDs for merging\n",
        "  merged_data = pd.merge(totalYearSpending, totalYearBudget, left_index=True, right_index=True)\n",
        "  merged_data.columns = ['Total Spending', 'Total Budget']\n",
        "\n",
        "  # use provided Axes object or create a new one\n",
        "  if userax is None:  # if the user does not specify an ax\n",
        "    fig, ax = plt.subplots(figsize=(12, 8))\n",
        "    fig.subplots_adjust(left= 0.125, bottom=0.03, right=0.7, top=0.95, hspace=1, wspace=0.25)  # adjust top margin and vertical spacing\n",
        "  else:  # if the user specifies an ax\n",
        "     ax = userax\n",
        "\n",
        "  # plot on the Axes object\n",
        "  ax.scatter(merged_data.index, merged_data['Total Budget'], color='black', label='Budget', zorder=2, s=50)\n",
        "\n",
        "  colors = ['red' if spending > budget else 'green' for spending, budget in zip(merged_data['Total Spending'], merged_data['Total Budget'])]\n",
        "  sizes = [100 if color == 'red' else 50 for color in colors]\n",
        "  ax.scatter(merged_data.index, merged_data['Total Spending'], color=colors, edgecolor='black', label='Spending', zorder=3, s=sizes)\n",
        "\n",
        "  ax.set_xticks(range(1, 21))  # put all 20 trips on x-axis\n",
        "\n",
        "  # add labels and title\n",
        "  ax.set_xlabel('Trip Number')\n",
        "  ax.set_ylabel('Dollar Amount')\n",
        "  ax.set_title('Trip Spending and Budget Comparison for ' + str(userYear))\n",
        "\n",
        "  ax.grid(True)  # add grid for readability\n",
        "\n",
        "  if userax is None:\n",
        "    plt.show()  # display the plot if no Axes object was passed"
      ],
      "metadata": {
        "id": "CzZmQDhVUe_q"
      },
      "execution_count": 14,
      "outputs": []
    },
    {
      "cell_type": "markdown",
      "source": [
        "###***Test yearReport()***"
      ],
      "metadata": {
        "id": "Y9oHZYyuYVOW"
      }
    },
    {
      "cell_type": "code",
      "source": [
        "# test yearReport()\n",
        "yearReport(2023)"
      ],
      "metadata": {
        "id": "nF6lcrGBUkF4"
      },
      "execution_count": null,
      "outputs": []
    },
    {
      "cell_type": "markdown",
      "source": [
        "###***Function will formulate tabulated table of charges from user input year, and trip***"
      ],
      "metadata": {
        "id": "SU4_5TWWYVhS"
      }
    },
    {
      "cell_type": "code",
      "source": [
        "# function will formulate tabulated table of charges from user input year, and trip\n",
        "def chargeTable_by_trip(userYear, userTrip):\n",
        "  # convert user input to integer\n",
        "  userYear = int(userYear)\n",
        "  userTrip = int(userTrip)\n",
        "\n",
        "  # filter expenditures for the user-selected trip and year\n",
        "  all_trip_charges = expendituresDF[(expendituresDF['Trip ID'] == userTrip) &\n",
        "                    (expendituresDF['Year'] == userYear)].sort_values(by = 'Expense Category')\n",
        "\n",
        "  # drop the index column, not needed in table\n",
        "  all_trip_charges = all_trip_charges.reset_index(drop=True)\n",
        "\n",
        "  # create list of column headers for table\n",
        "  headerList = ['Employee ID','Trip ID','Trip Year','Charge Number', 'Expense Name', 'Expense Category', \"Price\"]\n",
        "\n",
        "  # create table of charges from user-selected trip and year\n",
        "  chargeTable = tabulate(all_trip_charges, headers=headerList, tablefmt='fancy_grid', showindex=False)\n",
        "\n",
        "  print(chargeTable)  # print table\n"
      ],
      "metadata": {
        "id": "7CWqu8AbUotb"
      },
      "execution_count": 16,
      "outputs": []
    },
    {
      "cell_type": "markdown",
      "source": [
        "###***Test chargeTable_by_trip()***"
      ],
      "metadata": {
        "id": "ZrvIFcI-YWS3"
      }
    },
    {
      "cell_type": "code",
      "source": [
        "# test chargeTable_by_trip()\n",
        "chargeTable_by_trip(2019,2)"
      ],
      "metadata": {
        "id": "E8QGU8_OUstw"
      },
      "execution_count": null,
      "outputs": []
    },
    {
      "cell_type": "markdown",
      "source": [
        "###***Function will formulate tabulated table of charges from user input year***"
      ],
      "metadata": {
        "id": "qIoI3bYiYWnD"
      }
    },
    {
      "cell_type": "code",
      "source": [
        "# function will formulate tabulated table of charges from user input year\n",
        "def chargeTable_by_year(userYear):\n",
        "  # convert user input to integer\n",
        "  userYear = int(userYear)\n",
        "\n",
        "  # total expenditure data filtered out from expendituresDF\n",
        "  year_expenditure_data = pd.DataFrame(expendituresDF[expendituresDF['Year'] == userYear])\n",
        "\n",
        "  # drop the index column, not needed in table\n",
        "  year_expenditure_data = year_expenditure_data.reset_index(drop=True)\n",
        "\n",
        "  # create list of column headers for table\n",
        "  headerList = ['Employee ID','Trip ID','Trip Year','Charge Number', 'Expense Name', 'Expense Category', \"Price\"]\n",
        "\n",
        "  # create table of charges from user-selected trip and year\n",
        "  chargeTable = tabulate(year_expenditure_data, headers=headerList, tablefmt='fancy_grid', showindex=False)\n",
        "\n",
        "  print(chargeTable)  # print table"
      ],
      "metadata": {
        "id": "uLX9vS6cUzpV"
      },
      "execution_count": 18,
      "outputs": []
    },
    {
      "cell_type": "markdown",
      "source": [
        "###***Test chargeTable_by_year***"
      ],
      "metadata": {
        "id": "YsrwBMfbYXJu"
      }
    },
    {
      "cell_type": "code",
      "source": [
        "# test chargeTable_by_year\n",
        "chargeTable_by_year(2021)"
      ],
      "metadata": {
        "id": "nmk2RTWHU2pt"
      },
      "execution_count": null,
      "outputs": []
    },
    {
      "cell_type": "markdown",
      "source": [
        "###***Function will formulate tabulated table of over-budget trips***"
      ],
      "metadata": {
        "id": "FFA0Pj63YXbX"
      }
    },
    {
      "cell_type": "code",
      "source": [
        "# function will formulate tabulated table of over-budget trips\n",
        "def over_budget_table():\n",
        "  # filter trips where expenditures exceed the budget\n",
        "  overBudget = merged_DF[merged_DF['Total Expenditure'] > merged_DF['Total Budget']]\n",
        "\n",
        "  # sort by Total Expenditure in descending order\n",
        "  overBudget = overBudget.sort_values(by='Total Expenditure', ascending=False)\n",
        "\n",
        "  # reset index for better table formatting\n",
        "  overBudget = overBudget.reset_index(drop=True)\n",
        "\n",
        "  # select relevant columns for the table\n",
        "  overBudgetTable = overBudget[['Trip ID', 'Year', 'Total Expenditure']]\n",
        "\n",
        "  # create list of column headers for the table\n",
        "  headerList = ['Trip ID', 'Year', 'Total Expenditure']\n",
        "\n",
        "  # create table of over-budget trips\n",
        "  chargeTable = tabulate(overBudgetTable, headers=headerList, tablefmt='fancy_grid', showindex=False)\n",
        "\n",
        "  print(chargeTable)  # print table"
      ],
      "metadata": {
        "id": "Z7fDjCOHVAPV"
      },
      "execution_count": 20,
      "outputs": []
    },
    {
      "cell_type": "markdown",
      "source": [
        "###***Test over_budget_table***"
      ],
      "metadata": {
        "id": "EopMyoCZYX8I"
      }
    },
    {
      "cell_type": "code",
      "source": [
        "# test over_budget_table\n",
        "over_budget_table()"
      ],
      "metadata": {
        "id": "swNmxYe8VBpa"
      },
      "execution_count": null,
      "outputs": []
    },
    {
      "cell_type": "markdown",
      "source": [
        "###***Function will formulate a tabulated table of categorical forecasted budget amounts***"
      ],
      "metadata": {
        "id": "k2jO1apnYYNu"
      }
    },
    {
      "cell_type": "code",
      "source": [
        "# function will formulate a tabulated table of categorical forecasted budget amounts\n",
        "def forecasted_budget_table():\n",
        "  # calculate average expenditure for each category\n",
        "  travel_avg = round((expendituresDF[expendituresDF['Expense Category'] == 'Travel']['Price'].mean()),2)\n",
        "  lodging_avg = round((expendituresDF[expendituresDF['Expense Category'] == 'Lodging']['Price'].mean()),2)\n",
        "  dining_avg = round((expendituresDF[expendituresDF['Expense Category'] == 'Dining']['Price'].mean()),2)\n",
        "  incidental_avg = round((expendituresDF[expendituresDF['Expense Category'] == 'Incidental']['Price'].mean()),2)\n",
        "  per_diem_avg = round((expendituresDF[expendituresDF['Expense Category'] == 'Other']['Price'].mean()),2)\n",
        "  total_budget_avg = round((travel_avg + lodging_avg + dining_avg + incidental_avg + per_diem_avg),2)\n",
        "\n",
        "  # create list of lists for table rows\n",
        "  budget_data = [['2024 (Forecasted)',total_budget_avg,travel_avg,dining_avg,lodging_avg,per_diem_avg,incidental_avg],\n",
        "                 ['2024 (Rounded)',round(total_budget_avg,-2),round(travel_avg,-1),round(dining_avg,-1),round(lodging_avg,-1),\n",
        "                  round(per_diem_avg,-1),round(incidental_avg,-1)]]\n",
        "\n",
        "  # create list of column headers for table\n",
        "  headerList = ['Year','Total Budget','Travel','Dining','Lodging','Per Diem','Incidental']\n",
        "\n",
        "  # create table of categorical forecasted budget amounts\n",
        "  budgetTable = tabulate(budget_data, headers=headerList, tablefmt='fancy_grid', showindex=False)\n",
        "\n",
        "  print(budgetTable)  # print table"
      ],
      "metadata": {
        "id": "N_rWBFhQVFxq"
      },
      "execution_count": 22,
      "outputs": []
    },
    {
      "cell_type": "markdown",
      "source": [
        "###***Test forecasted_budget_table()***"
      ],
      "metadata": {
        "id": "x3NR5b9dYYsP"
      }
    },
    {
      "cell_type": "code",
      "source": [
        "# test forecasted_budget_table()\n",
        "forecasted_budget_table()"
      ],
      "metadata": {
        "id": "IFso7z1LVJ2W"
      },
      "execution_count": null,
      "outputs": []
    },
    {
      "cell_type": "markdown",
      "source": [
        "###***Function will cluster data utilizing DBSCAN algorithm, finding relationship between expenditure amounts vs total length of trip***"
      ],
      "metadata": {
        "id": "uQLgkvc4YY7X"
      }
    },
    {
      "cell_type": "code",
      "source": [
        "# function will cluster data utilizing DBSCAN algorithm, finding relationship between expenditure amounts vs total length of trip\n",
        "def trip_clustering():\n",
        "  # prepare features for clustering\n",
        "  features = merged_DF[['Total Expenditure', 'Length of Trip in Days']]\n",
        "\n",
        "  # normalize features\n",
        "  scaler = StandardScaler()\n",
        "  X_scaled = scaler.fit_transform(features)\n",
        "\n",
        "  # apply DBSCAN\n",
        "  dbscan_model = DBSCAN(eps=0.5, min_samples=5)\n",
        "  dbscan_result = dbscan_model.fit_predict(X_scaled)\n",
        "\n",
        "  # add clustering results to DataFrame\n",
        "  merged_DF['Cluster'] = dbscan_result\n",
        "\n",
        "  # plot DBSCAN clusters\n",
        "  plt.figure(figsize=(12, 6))\n",
        "\n",
        "  # plot each cluster\n",
        "  unique_clusters = np.unique(dbscan_result)\n",
        "  for cluster in unique_clusters:\n",
        "      cluster_data = merged_DF[merged_DF['Cluster'] == cluster]\n",
        "      plt.scatter(cluster_data['Total Expenditure'], cluster_data['Length of Trip in Days'],\n",
        "                  label=f'Cluster {cluster}' if cluster != -1 else 'Noise',\n",
        "                  alpha=0.6, edgecolors='w')\n",
        "\n",
        "  # highlight noise points (outliers)\n",
        "  noise = merged_DF[merged_DF['Cluster'] == -1]\n",
        "  plt.scatter(noise['Total Expenditure'], noise['Length of Trip in Days'], color='black', label='Noise', marker='x')\n",
        "\n",
        "  plt.xlabel('Total Expenditure')\n",
        "  plt.ylabel('Total Length of Trip')\n",
        "  plt.title('DBSCAN Clustering of Expenditure vs. Trip Length')\n",
        "  plt.legend()\n",
        "  plt.show()"
      ],
      "metadata": {
        "id": "0ooZWWgrVQn1"
      },
      "execution_count": 24,
      "outputs": []
    },
    {
      "cell_type": "markdown",
      "source": [
        "###***Test trip_clustering()***"
      ],
      "metadata": {
        "id": "lWkTMvOLYZcs"
      }
    },
    {
      "cell_type": "code",
      "source": [
        "# test trip_clustering()\n",
        "trip_clustering()"
      ],
      "metadata": {
        "id": "zkRQq6zFVUMS"
      },
      "execution_count": null,
      "outputs": []
    },
    {
      "cell_type": "markdown",
      "source": [
        "###***Function will generate a subplot of 5 years of data using yearReport function***"
      ],
      "metadata": {
        "id": "7F719D3-YZ5d"
      }
    },
    {
      "cell_type": "code",
      "source": [
        "# function will generate a subplot of 5 years of data using yearReport function\n",
        "def five_year_report():\n",
        "  years = budgetDF['Year'].unique()  # define years for the subplots - allows for scalability\n",
        "\n",
        "  fig, axes = plt.subplots(nrows=3, ncols=2, figsize=(5, 10))  # create a 3x2 grid of subplots\n",
        "  axes = axes.flatten()  # flatten the 2D array of axes for easy iteration\n",
        "\n",
        "  # generate plots for each year\n",
        "  for i, year in enumerate(years):\n",
        "      yearReport(year, axes[i])\n",
        "\n",
        "  axes[len(years)].axis('off')  # hide the unused subplot\n",
        "\n",
        "  plt.subplots_adjust(left=0.04, right=1, top=0.95, bottom=0.1, wspace=0.223, hspace=0.45)\n",
        "\n",
        "  plt.tight_layout()\n",
        "\n",
        "  plt.show()  # display the entire figure"
      ],
      "metadata": {
        "id": "OwSmBJqwVW_T"
      },
      "execution_count": 26,
      "outputs": []
    },
    {
      "cell_type": "markdown",
      "source": [
        "###***Test five_year_report()***"
      ],
      "metadata": {
        "id": "n9SoE47cYaeU"
      }
    },
    {
      "cell_type": "code",
      "source": [
        "# test five_year_report()\n",
        "five_year_report()"
      ],
      "metadata": {
        "id": "kjINYflJVaw_"
      },
      "execution_count": null,
      "outputs": []
    },
    {
      "cell_type": "markdown",
      "source": [
        "###***Function will generate a pie chart of the percentage of trips that are over/under budget***"
      ],
      "metadata": {
        "id": "KMbe-oY3Yaws"
      }
    },
    {
      "cell_type": "code",
      "source": [
        "# function will generate a pie chart of the percentage of trips that are over/under budget\n",
        "def average_pie():\n",
        "\n",
        "  # identify trips where expenditures exceed the budget\n",
        "  overBudget = merged_DF[merged_DF['Total Expenditure'] > merged_DF['Total Budget']]\n",
        "\n",
        "  # calculate the percentage of over-budget trips\n",
        "  over_percentage = len(overBudget)\n",
        "\n",
        "  # create numpy array of over percentage and remaining percentage\n",
        "  data = np.array([over_percentage, ((len(merged_DF))-over_percentage)])\n",
        "\n",
        "  plt.pie(data, autopct='%1.1f%%', labels=['Over-Budget','Under-Budget'], explode=[0.1, 0], colors=['red', 'green'], shadow=True)\n",
        "  plt.title('Over-Budget Average')\n",
        "  plt.axis('equal')\n",
        "\n",
        "  plt.tight_layout()\n",
        "\n",
        "  plt.show()  # display the entire figure"
      ],
      "metadata": {
        "id": "qaweCNTtVfmG"
      },
      "execution_count": 28,
      "outputs": []
    },
    {
      "cell_type": "markdown",
      "source": [
        "###***Test average_pie()***"
      ],
      "metadata": {
        "id": "OIv-5Im9YbM0"
      }
    },
    {
      "cell_type": "code",
      "source": [
        "# test average_pie()\n",
        "average_pie()"
      ],
      "metadata": {
        "id": "MeWcheQ3ViUV"
      },
      "execution_count": null,
      "outputs": []
    },
    {
      "cell_type": "markdown",
      "source": [
        "###***Function will generate a bar chart of the top 10% most expensive trips, and highlight the most expensive trip's bar***"
      ],
      "metadata": {
        "id": "Gm7tWSDyYbpp"
      }
    },
    {
      "cell_type": "code",
      "source": [
        "# function will generate a bar chart of the top 10% most expensive trips, and highlight the most expensive trip's bar\n",
        "def plot_most_expensive_trips():\n",
        "    # identify the top 10% most expensive trips\n",
        "    top_10_percent_threshold = merged_DF['Total Expenditure'].quantile(0.9)\n",
        "    top_10_percent = merged_DF[merged_DF['Total Expenditure'] >= top_10_percent_threshold]\n",
        "\n",
        "    # combine 'Trip ID' and 'Year' for x-axis labels\n",
        "    x_labels = [f\"Trip {tid}\\nYear {yr}\" for tid, yr in zip(top_10_percent['Trip ID'], top_10_percent['Year'])]\n",
        "\n",
        "    # create bar chart using above data\n",
        "    plt.figure(figsize=(14, 7))\n",
        "    bars = plt.bar(x_labels, top_10_percent['Total Expenditure'], color='skyblue')\n",
        "    plt.xlabel('Trip ID and Year')\n",
        "    plt.ylabel('Total Expenditure')\n",
        "    plt.title('Top 10% Most Expensive Trips')\n",
        "\n",
        "    # highlight the most expensive trip\n",
        "    max_expense_index = top_10_percent['Total Expenditure'].idxmax()\n",
        "    bars[top_10_percent.index.get_loc(max_expense_index)].set_color('red')\n",
        "\n",
        "    plt.tight_layout()\n",
        "\n",
        "    plt.xticks(rotation=90)\n",
        "    plt.show()"
      ],
      "metadata": {
        "id": "RjWL0oU7Vl85"
      },
      "execution_count": 30,
      "outputs": []
    },
    {
      "cell_type": "markdown",
      "source": [
        "###***Test plot_most_expensive_trips()***"
      ],
      "metadata": {
        "id": "vhZvZHGIYcNO"
      }
    },
    {
      "cell_type": "code",
      "source": [
        "# test plot_most_expensive_trips()\n",
        "plot_most_expensive_trips()"
      ],
      "metadata": {
        "id": "14AcCc_fVqnV"
      },
      "execution_count": null,
      "outputs": []
    },
    {
      "cell_type": "markdown",
      "source": [
        "###***Function will generate a bar chart of the bottom 10% least expensive trips, and highlight the least expensive trip's bar***"
      ],
      "metadata": {
        "id": "faSG-glzYcgU"
      }
    },
    {
      "cell_type": "code",
      "source": [
        "# function will generate a bar chart of the bottom 10% least expensive trips, and highlight the least expensive trip's bar\n",
        "def plot_cheapest_trips():\n",
        "    # identify the bottom 10% least expensive trips\n",
        "    bottom_10_percent_threshold = merged_DF['Total Expenditure'].quantile(0.1)\n",
        "    bottom_10_percent = merged_DF[merged_DF['Total Expenditure'] <= bottom_10_percent_threshold]\n",
        "\n",
        "    # combine 'Trip ID' and 'Year' for x-axis labels\n",
        "    x_labels = [f\"Trip {tid}\\nYear {yr}\" for tid, yr in zip(bottom_10_percent['Trip ID'], bottom_10_percent['Year'])]\n",
        "\n",
        "    # create bar chart using above data\n",
        "    plt.figure(figsize=(14, 7))\n",
        "    bars = plt.bar(x_labels, bottom_10_percent['Total Expenditure'], color='lightgreen')\n",
        "    plt.xlabel('Trip ID and Year')\n",
        "    plt.ylabel('Total Expenditure')\n",
        "    plt.title('Bottom 10% Least Expensive Trips')\n",
        "\n",
        "    # highlight the least expensive trip\n",
        "    min_expense_index = bottom_10_percent['Total Expenditure'].idxmin()\n",
        "    bars[bottom_10_percent.index.get_loc(min_expense_index)].set_color('orange')\n",
        "\n",
        "    plt.tight_layout()\n",
        "\n",
        "    plt.xticks(rotation=90)\n",
        "    plt.show()"
      ],
      "metadata": {
        "id": "DCajVdhPWBsN"
      },
      "execution_count": 32,
      "outputs": []
    },
    {
      "cell_type": "markdown",
      "source": [
        "###***Test plot_cheapest_trips()***"
      ],
      "metadata": {
        "id": "sOY5DboaYdBJ"
      }
    },
    {
      "cell_type": "code",
      "source": [
        "# test plot_cheapest_trips()\n",
        "plot_cheapest_trips()"
      ],
      "metadata": {
        "id": "5KavcuGcWChD"
      },
      "execution_count": null,
      "outputs": []
    },
    {
      "cell_type": "markdown",
      "source": [
        "### ***Function will generate a new budget amount for each budget category from past 5 year expenditure data***"
      ],
      "metadata": {
        "id": "3sRXlJaxYdRV"
      }
    },
    {
      "cell_type": "code",
      "source": [
        "# function will generate a new budget amount for each budget category from past 5 year expenditure data\n",
        "def forecast():\n",
        "  # list of years to plot\n",
        "  years = budgetDF['Year'].unique()  # define years for the subplots - allows for scalability in future\n",
        "\n",
        "  # prepare a DataFrame to hold average expenditures for each year\n",
        "  avg_expenditure = pd.DataFrame()\n",
        "\n",
        "  # calculate the average expenditure for each category by year\n",
        "  for year in years:\n",
        "    year_data = expendituresDF[expendituresDF['Year'] == year]\n",
        "    avg_per_category = year_data.groupby('Expense Category')['Price'].mean().reset_index()\n",
        "    avg_per_category['Year'] = year\n",
        "    avg_expenditure = pd.concat([avg_expenditure, avg_per_category], axis=0)\n",
        "\n",
        "  # calculate the overall mean expenditure for each category\n",
        "  overall_avg = expendituresDF.groupby('Expense Category')['Price'].mean().reset_index()\n",
        "  overall_avg['Year'] = 'Mean'\n",
        "\n",
        "  # plot the data\n",
        "  plt.figure(figsize=(14, 8))\n",
        "  colors = ['blue', 'orange', 'green', 'red', 'purple']\n",
        "\n",
        "  for i, year in enumerate(years):\n",
        "    year_data = avg_expenditure[avg_expenditure['Year'] == year]\n",
        "    plt.plot(year_data['Expense Category'], year_data['Price'],\n",
        "              linestyle='--', marker='o', markersize=2, color=colors[i],\n",
        "              alpha=0.5, label=f'{year}')\n",
        "\n",
        "  # plot the mean line\n",
        "  plt.plot(overall_avg['Expense Category'], overall_avg['Price'],\n",
        "            linestyle='-', marker='o', color='black',\n",
        "            linewidth=2.5, markersize=8, label='Forecasted Budget')\n",
        "\n",
        "  # customize the graph\n",
        "  plt.xlabel('Category')\n",
        "  plt.ylabel('Average Expenditure')\n",
        "  plt.title('Average Expenditure by Category for Each Year')\n",
        "  plt.xticks(rotation=45, ha='right')\n",
        "  plt.grid(True)\n",
        "  plt.legend()\n",
        "  plt.tight_layout()\n",
        "\n",
        "  plt.show()"
      ],
      "metadata": {
        "id": "cU7Ii-u7WF_6"
      },
      "execution_count": 34,
      "outputs": []
    },
    {
      "cell_type": "markdown",
      "source": [
        "### ***Test forecast()***"
      ],
      "metadata": {
        "id": "XDxMSMmPYeKY"
      }
    },
    {
      "cell_type": "code",
      "source": [
        "# test forecast()\n",
        "forecast()"
      ],
      "metadata": {
        "id": "Nu_Yd4G1WJ72"
      },
      "execution_count": null,
      "outputs": []
    },
    {
      "cell_type": "markdown",
      "source": [
        "### ***Main Menu UI of program***"
      ],
      "metadata": {
        "id": "E-mB_NWAYeiC"
      }
    },
    {
      "cell_type": "code",
      "source": [
        "# Main Menu UI of program\n",
        "def main():\n",
        "  mainSelect = \"1\"\n",
        "  # display main menu until user selects 0 to exit\n",
        "  while mainSelect != \"0\":\n",
        "    clear_output()  # clear screen\n",
        "    print(\"Sample Co.'s Company Credit Card Expenditure Reporting and Forecasting Application\")\n",
        "    print(\"----------------------------------------------------------------------------------\")\n",
        "    print(\"1) Enter Year Number (2019-2023)\")\n",
        "    print(\"2) 5-year Summary Reporting\")\n",
        "    print(\"3) Clustered Data\")\n",
        "    print(\"4) Forecast Data\")\n",
        "    print(\"5) About the Application\")\n",
        "    print(\"0) Exit\")\n",
        "    print(\"=================================\")\n",
        "    print(\"\")\n",
        "    mainSelect = input(\"Enter Selection: \")\n",
        "\n",
        "    # if user selects a year to generate reports on (user can select a year from main menu or 1 for another menu of years to choose from)\n",
        "    if mainSelect in ['1','2019','2020','2021','2022','2023']:\n",
        "      if mainSelect == '1':  # if user selects \"option 1\" rather than a year from main menu\n",
        "        yearSelect = 1\n",
        "        while yearSelect not in ['0','2019','2020','2021','2022','2023']:  # display menu for user to select a year until they select an appropriate year\n",
        "          clear_output()\n",
        "          print(\"Year Reporting\")\n",
        "          print(\"===============\")\n",
        "          print(\"Please Select a Year:\")\n",
        "          print(\"\")\n",
        "          print(\"* 2019\")\n",
        "          print(\"* 2020\")\n",
        "          print(\"* 2021\")\n",
        "          print(\"* 2022\")\n",
        "          print(\"* 2023\")\n",
        "          print(\"\")\n",
        "          print(\"0) Back to Main Menu\")\n",
        "          print(\"=================================\")\n",
        "          print(\"\")\n",
        "          yearSelect = input(\"Enter Selection: \")\n",
        "        if yearSelect in ['2019','2020','2021','2022','2023']:\n",
        "          mainSelect = yearSelect\n",
        "          innerSelect = 1\n",
        "        elif yearSelect == '0':\n",
        "           innerSelect = 0\n",
        "      else:\n",
        "         innerSelect = 1\n",
        "\n",
        "      # display year reporting menu until user selects 0\n",
        "      while innerSelect != 0:\n",
        "        clear_output()\n",
        "        print(mainSelect + \" Year Reporting\")\n",
        "        print(\"============================\")\n",
        "        print(\"Enter Trip Number (1-20)\")\n",
        "        print(\"  -OR-\")\n",
        "        print(\"Enter (s) for a summary of \" + mainSelect)\n",
        "        print(\"  -OR-\")\n",
        "        print(\"Enter 0 to return to main menu\")\n",
        "        print(\"=================================\")\n",
        "        print(\"\")\n",
        "        innerSelect = input(\"Enter Selection: \")\n",
        "        if innerSelect in ('1','2','3','4','5','6','7','8','9','10','11','12','13','14','15','16','17','18','19','20'):  # if user selects trip number 1-20\n",
        "          tripReport(mainSelect, innerSelect)  # call tripReport function to generate charts for user-selected trip from user-selected year\n",
        "          print(\"\")\n",
        "          chargeTableDisplay = input(\"Would you like to see a breakdown of all charges for trip # \" + innerSelect + \"? (Y/N): \")\n",
        "          if chargeTableDisplay in ('Y','y'):\n",
        "            clear_output()\n",
        "            chargeTable_by_trip(mainSelect,innerSelect)  # call chargeTable_by_trip function to print a chart of all charges for the user-selected trip from user-selected year, organized by expense category\n",
        "            print(\"\")\n",
        "            input(\"Press ENTER to return to main menu....\")\n",
        "            break\n",
        "        elif innerSelect in ('s','S'):  # if user selects 's' for summary\n",
        "          yearReport(mainSelect)  # call yearReport function to generate summary charts for user-selected year\n",
        "          chargeTableDisplay = input(\"Would you like to see a breakdown of all charges for \" + mainSelect + \"? (Y/N): \")\n",
        "          if chargeTableDisplay in ('Y','y'):\n",
        "            clear_output()\n",
        "            chargeTable_by_year(mainSelect)  # call chargeTable_by_year function to print a chart of all charges from user-selected year, organized by trip number\n",
        "            print(\"\")\n",
        "            input(\"Press ENTER to return to main menu....\")\n",
        "            break\n",
        "        elif innerSelect == \"0\":  # if user selects 0 to return to main menu\n",
        "          break\n",
        "        else:\n",
        "          print(\"Invalid Selection\")\n",
        "          print(\" \")\n",
        "\n",
        "    # if user selects 2) 5-year Summary Reporting\n",
        "    elif mainSelect == \"2\":\n",
        "      five_year_report()\n",
        "      innerSelect = 1\n",
        "      # display summary reporting menu until user selects 0\n",
        "      while innerSelect != 0:\n",
        "        clear_output()\n",
        "        print(\"5-Year Summary Reporting\")\n",
        "        print(\"========================\")\n",
        "        print(\"1) Explore Total Over-Budget Trip Data\")\n",
        "        print(\"2) Explore Most Expensive Trip Data\")\n",
        "        print(\"3) Explore Least Expensive Trip Data\")\n",
        "        print(\"\")\n",
        "        print(\"Enter 0 to return to main menu\")\n",
        "        print(\"=================================\")\n",
        "        print(\"\")\n",
        "        innerSelect = input(\"Enter Selection: \")\n",
        "        if innerSelect == \"1\":  # if user wants to explore total over-budget trip data pie chart\n",
        "          average_pie()\n",
        "          chargeTableDisplay = input(\"Would you like to see a list of all over-budget trips? (Y/N): \")\n",
        "          if chargeTableDisplay in ('Y','y'):\n",
        "              clear_output()\n",
        "              over_budget_table()  # call over_budget_table function to print a chart of all over-budget trips\n",
        "              print(\"\")\n",
        "              input(\"Press ENTER to close....\")\n",
        "        elif innerSelect == \"2\":  # if user wants to see bar chart of most expensive trips\n",
        "          plot_most_expensive_trips()\n",
        "        elif innerSelect == \"3\":  # if user wants to see bar chart of least expensive trips\n",
        "          plot_cheapest_trips()\n",
        "        elif innerSelect == \"0\":\n",
        "          break\n",
        "        else:\n",
        "            print(\"Invalid Selection\")\n",
        "            print(\" \")\n",
        "\n",
        "    # if user selects 3) Clustered Data\n",
        "    elif mainSelect == \"3\":\n",
        "      clear_output()\n",
        "      trip_clustering()  # call trip_clustering function to display plot of clustered data\n",
        "\n",
        "    # if user selects 4) Forecast Data\n",
        "    elif mainSelect == \"4\":\n",
        "      clear_output()\n",
        "      forecast()  # call forecast function to display forecast line plot\n",
        "      forecasted_budget_table()  # call forecasted_budget_table function to print table of new budget data\n",
        "      print(\"\")\n",
        "      input(\"Press ENTER to return to main menu....\")\n",
        "\n",
        "    # if user selects 5) About the Application\n",
        "    elif mainSelect == \"5\":\n",
        "      clear_output()\n",
        "      print(\"About the Application\")\n",
        "      print(\"==========================\")\n",
        "      print(\"\")\n",
        "      print(\"Application Info:\")\n",
        "      print(\"==========================\")\n",
        "      print(\"Company Credit Card Reporting and Forecasting Application\")\n",
        "      print(\"WGU C964 - Computer Science Capstone\")\n",
        "      print(\"Version: 1.1\")\n",
        "      print(\"Release Notes: Final Submission for WGU Computer Science Capstone (SIM3 Task 2)\")\n",
        "      print(\"\")\n",
        "      print(\"Devloper Credits:\")\n",
        "      print(\"==========================\")\n",
        "      print(\"Author: Tyler Petrow\")\n",
        "      print(\"WGU Student ID: 011118169\")\n",
        "      print(\"GitHub Repository: https://github.com/tpetrow-portfolio/Credit-Card-Expense-Application/\")\n",
        "      print(\"\")\n",
        "      print(\"\")\n",
        "      input(\"Press ENTER to return to main menu....\")\n",
        "\n",
        "    # if user selects 0) Exit\n",
        "    elif(mainSelect == \"0\"):\n",
        "      clear_output()\n",
        "      print(\"Exiting Application...\")\n",
        "\n",
        "    # if user makes incorrect selection\n",
        "    else:\n",
        "      clear_output()\n",
        "      print(\"Invalid Selection...\")"
      ],
      "metadata": {
        "id": "nhPXZoB8WPwU"
      },
      "execution_count": 40,
      "outputs": []
    },
    {
      "cell_type": "markdown",
      "source": [
        "###***Call Main() to run program***"
      ],
      "metadata": {
        "id": "IpUmx6jqYgVT"
      }
    },
    {
      "cell_type": "code",
      "source": [
        "main()"
      ],
      "metadata": {
        "colab": {
          "base_uri": "https://localhost:8080/"
        },
        "id": "yMTFtP8VWRYq",
        "outputId": "2afbcd90-ab5a-4a04-96c3-91bc0fa599bb"
      },
      "execution_count": 42,
      "outputs": [
        {
          "output_type": "stream",
          "name": "stdout",
          "text": [
            "Exiting Application...\n"
          ]
        }
      ]
    }
  ]
}